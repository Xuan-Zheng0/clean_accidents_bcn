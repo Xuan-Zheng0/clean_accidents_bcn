{
 "cells": [
  {
   "cell_type": "code",
   "execution_count": 52,
   "id": "c7f0368c",
   "metadata": {},
   "outputs": [],
   "source": [
    "import numpy as np\n",
    "import pandas as pd"
   ]
  },
  {
   "cell_type": "code",
   "execution_count": 100,
   "id": "a195932e",
   "metadata": {},
   "outputs": [],
   "source": [
    "df_2010 = pd.read_csv('2010_accidents.csv', decimal=\",\", encoding= 'unicode_escape')\n",
    "df_2011 = pd.read_csv('2011_accidents.csv', decimal=\",\", encoding= 'unicode_escape')\n",
    "df_2012 = pd.read_csv('2012_accidents.csv', decimal=\",\", encoding= 'unicode_escape')\n",
    "df_2013 = pd.read_csv('2013_accidents.csv', decimal=\",\", encoding= 'unicode_escape')\n",
    "#df_2014 = pd.read_csv('2014_accidents.csv', decimal=\",\", encoding= 'unicode_escape')\n",
    "df_2015 = pd.read_csv('2015_accidents.csv', decimal=\",\", encoding= 'unicode_escape')\n",
    "df_2016 = pd.read_csv('2016_accidents.csv', decimal=\",\", encoding= 'UTF-8')"
   ]
  },
  {
   "cell_type": "code",
   "execution_count": 60,
   "id": "c43f22a5",
   "metadata": {},
   "outputs": [
    {
     "data": {
      "text/plain": [
       "78780"
      ]
     },
     "execution_count": 60,
     "metadata": {},
     "output_type": "execute_result"
    }
   ],
   "source": [
    "df_2010.shape[0] + df_2011.shape[0] + df_2012.shape[0] + df_2013.shape[0] + df_2014.shape[0] + df_2015.shape[0] + df_2016.shape[0]"
   ]
  },
  {
   "cell_type": "code",
   "execution_count": 101,
   "id": "b59320d9",
   "metadata": {},
   "outputs": [],
   "source": [
    "df_2010.drop(['Descripció torn'], axis=1, inplace=True)\n",
    "df_2011.drop(['Descripció torn'], axis=1, inplace=True)\n",
    "df_2012.drop(['Descripció torn'], axis=1, inplace=True)\n",
    "df_2013.drop(['Descripció torn'], axis=1, inplace=True)"
   ]
  },
  {
   "cell_type": "code",
   "execution_count": 82,
   "id": "0e99bc95",
   "metadata": {},
   "outputs": [],
   "source": [
    "df_2014 = df_2014.set_axis(df_2010.columns, axis=1, inplace=False)"
   ]
  },
  {
   "cell_type": "code",
   "execution_count": 87,
   "id": "1d0b01f2",
   "metadata": {},
   "outputs": [
    {
     "data": {
      "text/plain": [
       "Index(['Número d'expedient', 'Codi districte', 'Nom districte', 'Codi barri',\n",
       "       'Nom barri', 'Codi carrer', 'Nom carrer', 'Num postal caption',\n",
       "       'Descripció dia setmana', 'Dia setmana', 'Descripció tipus dia',\n",
       "       'NK Any', 'Mes de any', 'Nom mes', 'Dia de mes', 'Hora de dia',\n",
       "       'Descripció causa vianant', 'Desc. Tipus vehicle implicat',\n",
       "       'Descripció sexe', 'Descripció tipus persona', 'Edat',\n",
       "       'Descripció victimització', 'Coordenada UTM (Y)', 'Coordenada UTM (X)'],\n",
       "      dtype='object')"
      ]
     },
     "execution_count": 87,
     "metadata": {},
     "output_type": "execute_result"
    }
   ],
   "source": [
    "df_2010.columns"
   ]
  },
  {
   "cell_type": "code",
   "execution_count": 102,
   "id": "415e1e48",
   "metadata": {},
   "outputs": [],
   "source": [
    "df_2016.drop(['Long', 'Lat', 'Descripció torn', 'Descripció situació'], axis=1, inplace=True)"
   ]
  },
  {
   "cell_type": "code",
   "execution_count": 103,
   "id": "ee946e85",
   "metadata": {},
   "outputs": [],
   "source": [
    "df_2016 = df_2016[[\"Número d'expedient\", 'Codi districte', 'Nom districte', 'Codi barri',\n",
    "       'Nom barri', 'Codi carrer', 'Nom carrer', 'Num postal caption',\n",
    "       'Descripció dia setmana', 'Dia setmana', 'Descripció tipus dia',\n",
    "       'NK Any', 'Mes de any', 'Nom mes', 'Dia de mes', 'Hora de dia',\n",
    "       'Descripció causa vianant', 'Desc. Tipus vehicle implicat',\n",
    "       'Descripció sexe', 'Descripció tipus persona', 'Edat',\n",
    "       'Descripció victimització', 'Coordenada UTM (X)', 'Coordenada UTM (Y)']]"
   ]
  },
  {
   "cell_type": "code",
   "execution_count": 104,
   "id": "3bcf3bc2",
   "metadata": {},
   "outputs": [],
   "source": [
    "df_2016 = df_2016.set_axis(df_2010.columns, axis=1, inplace=False)"
   ]
  },
  {
   "cell_type": "code",
   "execution_count": 105,
   "id": "4242b48b",
   "metadata": {},
   "outputs": [],
   "source": [
    "frames = [df_2010, df_2011, df_2012, df_2013, df_2015, df_2016]\n",
    "df = pd.concat(frames)"
   ]
  },
  {
   "cell_type": "code",
   "execution_count": null,
   "id": "bef36cbd",
   "metadata": {},
   "outputs": [],
   "source": [
    "df.loc[df['Edat']=='Desconegut', 'Edat'] = ''"
   ]
  },
  {
   "cell_type": "code",
   "execution_count": 115,
   "id": "5d8598b1",
   "metadata": {},
   "outputs": [],
   "source": [
    "df.to_csv(\"df_final.csv\")"
   ]
  }
 ],
 "metadata": {
  "kernelspec": {
   "display_name": "Python 3 (ipykernel)",
   "language": "python",
   "name": "python3"
  },
  "language_info": {
   "codemirror_mode": {
    "name": "ipython",
    "version": 3
   },
   "file_extension": ".py",
   "mimetype": "text/x-python",
   "name": "python",
   "nbconvert_exporter": "python",
   "pygments_lexer": "ipython3",
   "version": "3.9.7"
  }
 },
 "nbformat": 4,
 "nbformat_minor": 5
}
